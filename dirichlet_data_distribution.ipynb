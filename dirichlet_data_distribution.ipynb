{
 "cells": [
  {
   "cell_type": "code",
   "execution_count": 1,
   "metadata": {
    "ExecuteTime": {
     "end_time": "2024-09-30T05:07:01.495814Z",
     "start_time": "2024-09-30T05:07:00.989896Z"
    }
   },
   "outputs": [],
   "source": [
    "import os\n",
    "import glob\n",
    "import shutil\n",
    "import numpy as np\n",
    "import random\n",
    "import matplotlib.pyplot as plt"
   ]
  },
  {
   "cell_type": "code",
   "execution_count": 2,
   "metadata": {
    "ExecuteTime": {
     "end_time": "2024-09-30T05:07:01.511342Z",
     "start_time": "2024-09-30T05:07:01.498342Z"
    }
   },
   "outputs": [],
   "source": [
    "import sys\n",
    "sys.path.insert(1, os.path.join(sys.path[0], '../'))"
   ]
  },
  {
   "cell_type": "code",
   "execution_count": 3,
   "metadata": {
    "ExecuteTime": {
     "end_time": "2024-09-30T05:07:03.447099Z",
     "start_time": "2024-09-30T05:07:02.414426Z"
    }
   },
   "outputs": [
    {
     "name": "stderr",
     "output_type": "stream",
     "text": [
      "D:\\Anaconda3\\envs\\lss666\\lib\\site-packages\\tqdm\\auto.py:21: TqdmWarning: IProgress not found. Please update jupyter and ipywidgets. See https://ipywidgets.readthedocs.io/en/stable/user_install.html\n",
      "  from .autonotebook import tqdm as notebook_tqdm\n"
     ]
    }
   ],
   "source": [
    "import utils"
   ]
  },
  {
   "cell_type": "code",
   "execution_count": 4,
   "metadata": {
    "ExecuteTime": {
     "end_time": "2024-09-30T05:07:05.136754Z",
     "start_time": "2024-09-30T05:07:05.119753Z"
    }
   },
   "outputs": [],
   "source": [
    "# Define dataset.\n",
    "# dataset_name = 'cifar_10'\n",
    "# dataset_name = 'svhn'\n",
    "# dataset_name = 'fashion_mnist'\n",
    "# dataset_dir = '../datasets/' + dataset_name\n",
    "# train_dir = os.path.join(dataset_dir, 'train')\n",
    "\n",
    "\n",
    "dataset_name = 'sars_cov_2_ct_scan'\n",
    "dataset_dir = '../datasets/' + dataset_name\n",
    "train_dir = os.path.join(dataset_dir)"
   ]
  },
  {
   "cell_type": "code",
   "execution_count": 5,
   "metadata": {
    "ExecuteTime": {
     "end_time": "2024-09-30T05:07:07.578148Z",
     "start_time": "2024-09-30T05:07:06.598055Z"
    }
   },
   "outputs": [
    {
     "ename": "FileNotFoundError",
     "evalue": "[WinError 3] 系统找不到指定的路径。: '../datasets/sars_cov_2_ct_scan'",
     "output_type": "error",
     "traceback": [
      "\u001B[1;31m---------------------------------------------------------------------------\u001B[0m",
      "\u001B[1;31mFileNotFoundError\u001B[0m                         Traceback (most recent call last)",
      "Cell \u001B[1;32mIn[5], line 1\u001B[0m\n\u001B[1;32m----> 1\u001B[0m class_labels \u001B[38;5;241m=\u001B[39m \u001B[43mos\u001B[49m\u001B[38;5;241;43m.\u001B[39;49m\u001B[43mlistdir\u001B[49m\u001B[43m(\u001B[49m\u001B[43mtrain_dir\u001B[49m\u001B[43m)\u001B[49m\n\u001B[0;32m      2\u001B[0m class_labels\u001B[38;5;241m.\u001B[39msort()\n\u001B[0;32m      3\u001B[0m \u001B[38;5;28mprint\u001B[39m(class_labels)\n",
      "\u001B[1;31mFileNotFoundError\u001B[0m: [WinError 3] 系统找不到指定的路径。: '../datasets/sars_cov_2_ct_scan'"
     ]
    }
   ],
   "source": [
    "class_labels = os.listdir(train_dir)\n",
    "class_labels.sort()\n",
    "print(class_labels)"
   ]
  },
  {
   "cell_type": "code",
   "execution_count": 6,
   "metadata": {
    "ExecuteTime": {
     "end_time": "2024-09-30T05:07:08.685362Z",
     "start_time": "2024-09-30T05:07:08.648364Z"
    }
   },
   "outputs": [
    {
     "ename": "NameError",
     "evalue": "name 'class_labels' is not defined",
     "output_type": "error",
     "traceback": [
      "\u001B[1;31m---------------------------------------------------------------------------\u001B[0m",
      "\u001B[1;31mNameError\u001B[0m                                 Traceback (most recent call last)",
      "Cell \u001B[1;32mIn[6], line 3\u001B[0m\n\u001B[0;32m      1\u001B[0m \u001B[38;5;66;03m# Read image list into a dictionary for each class.\u001B[39;00m\n\u001B[0;32m      2\u001B[0m train_img_dict \u001B[38;5;241m=\u001B[39m {}\n\u001B[1;32m----> 3\u001B[0m \u001B[38;5;28;01mfor\u001B[39;00m class_label \u001B[38;5;129;01min\u001B[39;00m \u001B[43mclass_labels\u001B[49m:\n\u001B[0;32m      4\u001B[0m     class_folder \u001B[38;5;241m=\u001B[39m os\u001B[38;5;241m.\u001B[39mpath\u001B[38;5;241m.\u001B[39mjoin(train_dir, class_label)\n\u001B[0;32m      5\u001B[0m     img_list \u001B[38;5;241m=\u001B[39m glob\u001B[38;5;241m.\u001B[39mglob(os\u001B[38;5;241m.\u001B[39mpath\u001B[38;5;241m.\u001B[39mjoin(class_folder, \u001B[38;5;124m'\u001B[39m\u001B[38;5;124m*.JPG\u001B[39m\u001B[38;5;124m'\u001B[39m)) \u001B[38;5;241m+\u001B[39m glob\u001B[38;5;241m.\u001B[39mglob(os\u001B[38;5;241m.\u001B[39mpath\u001B[38;5;241m.\u001B[39mjoin(class_folder, \u001B[38;5;124m'\u001B[39m\u001B[38;5;124m*.jpg\u001B[39m\u001B[38;5;124m'\u001B[39m)) \u001B[38;5;241m+\u001B[39m glob\u001B[38;5;241m.\u001B[39mglob(os\u001B[38;5;241m.\u001B[39mpath\u001B[38;5;241m.\u001B[39mjoin(class_folder, \u001B[38;5;124m'\u001B[39m\u001B[38;5;124m*.png\u001B[39m\u001B[38;5;124m'\u001B[39m))           \n",
      "\u001B[1;31mNameError\u001B[0m: name 'class_labels' is not defined"
     ]
    }
   ],
   "source": [
    "# Read image list into a dictionary for each class.\n",
    "train_img_dict = {}\n",
    "for class_label in class_labels:\n",
    "    class_folder = os.path.join(train_dir, class_label)\n",
    "    img_list = glob.glob(os.path.join(class_folder, '*.JPG')) + glob.glob(os.path.join(class_folder, '*.jpg')) + glob.glob(os.path.join(class_folder, '*.png'))           \n",
    "    train_img_dict[class_label] = img_list\n",
    "    print(class_label, ':', len(img_list))"
   ]
  },
  {
   "cell_type": "code",
   "execution_count": 7,
   "metadata": {
    "ExecuteTime": {
     "end_time": "2024-09-30T05:07:10.715956Z",
     "start_time": "2024-09-30T05:07:10.701960Z"
    }
   },
   "outputs": [],
   "source": [
    "def get_dirichlet_proportions(beta, num_clients, num_total_samples):\n",
    "    rng = np.random.default_rng()\n",
    "    proportions = rng.dirichlet(np.repeat(beta, num_clients))\n",
    "    proportions = proportions / proportions.sum()\n",
    "    proportions = np.round(proportions * num_total_samples).astype(int)[:-1]\n",
    "    proportions = np.append(proportions, max(0, num_total_samples - sum(proportions)))           # For the last client.\n",
    "    return proportions"
   ]
  },
  {
   "cell_type": "code",
   "execution_count": 8,
   "metadata": {
    "ExecuteTime": {
     "end_time": "2024-09-30T05:07:11.835846Z",
     "start_time": "2024-09-30T05:07:11.827849Z"
    }
   },
   "outputs": [],
   "source": [
    "# Define distribution settings.\n",
    "num_clients = 10            # [10, 30, 50]\n",
    "beta = 0.5 # [0.1, 0.5, 5]\n",
    "\n",
    "client_data_dir = os.path.join('./client_data/', dataset_name + '_b_{}_c_{}'.format(beta, num_clients))"
   ]
  },
  {
   "cell_type": "code",
   "execution_count": 9,
   "metadata": {
    "ExecuteTime": {
     "end_time": "2024-09-30T05:07:12.765208Z",
     "start_time": "2024-09-30T05:07:12.716210Z"
    }
   },
   "outputs": [
    {
     "ename": "NameError",
     "evalue": "name 'class_labels' is not defined",
     "output_type": "error",
     "traceback": [
      "\u001B[1;31m---------------------------------------------------------------------------\u001B[0m",
      "\u001B[1;31mNameError\u001B[0m                                 Traceback (most recent call last)",
      "Cell \u001B[1;32mIn[9], line 3\u001B[0m\n\u001B[0;32m      1\u001B[0m data_notes \u001B[38;5;241m=\u001B[39m {}\n\u001B[1;32m----> 3\u001B[0m \u001B[38;5;28;01mfor\u001B[39;00m class_label \u001B[38;5;129;01min\u001B[39;00m \u001B[43mclass_labels\u001B[49m:\n\u001B[0;32m      5\u001B[0m     sample_list \u001B[38;5;241m=\u001B[39m train_img_dict[class_label]\n\u001B[0;32m      6\u001B[0m     random\u001B[38;5;241m.\u001B[39mshuffle(sample_list)\n",
      "\u001B[1;31mNameError\u001B[0m: name 'class_labels' is not defined"
     ]
    }
   ],
   "source": [
    "data_notes = {}\n",
    "\n",
    "for class_label in class_labels:\n",
    "\n",
    "    sample_list = train_img_dict[class_label]\n",
    "    random.shuffle(sample_list)\n",
    "    num_total_samples = len(sample_list)\n",
    "    \n",
    "    proportions = get_dirichlet_proportions(beta, num_clients, num_total_samples)\n",
    "    print('{:>12} : {}'.format(class_label, proportions))\n",
    "    \n",
    "    start_idx = 0\n",
    "    for client_idx in range(num_clients):\n",
    "        end_idx = start_idx + proportions[client_idx]\n",
    "        dest_dir = os.path.join(client_data_dir, str(client_idx), class_label)\n",
    "        os.makedirs(dest_dir)\n",
    "        for img in sample_list[start_idx:end_idx]:\n",
    "            shutil.copy(img, dest_dir)\n",
    "        start_idx = end_idx\n",
    "        data_notes.setdefault(client_idx, {})\n",
    "        data_notes[client_idx][class_label] = proportions[client_idx]"
   ]
  },
  {
   "cell_type": "code",
   "execution_count": 10,
   "metadata": {
    "ExecuteTime": {
     "end_time": "2024-09-30T05:07:13.588595Z",
     "start_time": "2024-09-30T05:07:13.554599Z"
    }
   },
   "outputs": [
    {
     "ename": "KeyError",
     "evalue": "0",
     "output_type": "error",
     "traceback": [
      "\u001B[1;31m---------------------------------------------------------------------------\u001B[0m",
      "\u001B[1;31mKeyError\u001B[0m                                  Traceback (most recent call last)",
      "Cell \u001B[1;32mIn[10], line 4\u001B[0m\n\u001B[0;32m      2\u001B[0m note_file \u001B[38;5;241m=\u001B[39m os\u001B[38;5;241m.\u001B[39mpath\u001B[38;5;241m.\u001B[39mjoin(os\u001B[38;5;241m.\u001B[39mpath\u001B[38;5;241m.\u001B[39mjoin(client_data_dir, \u001B[38;5;28mstr\u001B[39m(client_idx), \u001B[38;5;124m'\u001B[39m\u001B[38;5;124mnotes.txt\u001B[39m\u001B[38;5;124m'\u001B[39m))\n\u001B[0;32m      3\u001B[0m txt \u001B[38;5;241m=\u001B[39m \u001B[38;5;124m'\u001B[39m\u001B[38;5;124m'\u001B[39m\n\u001B[1;32m----> 4\u001B[0m \u001B[38;5;28;01mfor\u001B[39;00m class_label, num_samples \u001B[38;5;129;01min\u001B[39;00m \u001B[43mdata_notes\u001B[49m\u001B[43m[\u001B[49m\u001B[43mclient_idx\u001B[49m\u001B[43m]\u001B[49m\u001B[38;5;241m.\u001B[39mitems():\n\u001B[0;32m      5\u001B[0m     buff \u001B[38;5;241m=\u001B[39m \u001B[38;5;124m'\u001B[39m\u001B[38;5;132;01m{:15}\u001B[39;00m\u001B[38;5;124m : \u001B[39m\u001B[38;5;132;01m{}\u001B[39;00m\u001B[38;5;130;01m\\n\u001B[39;00m\u001B[38;5;124m'\u001B[39m\u001B[38;5;241m.\u001B[39mformat(class_label, num_samples)\n\u001B[0;32m      6\u001B[0m     txt \u001B[38;5;241m+\u001B[39m\u001B[38;5;241m=\u001B[39m buff\n",
      "\u001B[1;31mKeyError\u001B[0m: 0"
     ]
    }
   ],
   "source": [
    "for client_idx in range(num_clients):\n",
    "    note_file = os.path.join(os.path.join(client_data_dir, str(client_idx), 'notes.txt'))\n",
    "    txt = ''\n",
    "    for class_label, num_samples in data_notes[client_idx].items():\n",
    "        buff = '{:15} : {}\\n'.format(class_label, num_samples)\n",
    "        txt += buff\n",
    "    utils.save_notes(note_file, txt)"
   ]
  },
  {
   "cell_type": "code",
   "execution_count": 11,
   "metadata": {
    "ExecuteTime": {
     "end_time": "2024-09-30T05:07:14.447972Z",
     "start_time": "2024-09-30T05:07:14.408974Z"
    }
   },
   "outputs": [
    {
     "ename": "NameError",
     "evalue": "name 'class_labels' is not defined",
     "output_type": "error",
     "traceback": [
      "\u001B[1;31m---------------------------------------------------------------------------\u001B[0m",
      "\u001B[1;31mNameError\u001B[0m                                 Traceback (most recent call last)",
      "Cell \u001B[1;32mIn[11], line 1\u001B[0m\n\u001B[1;32m----> 1\u001B[0m mat \u001B[38;5;241m=\u001B[39m np\u001B[38;5;241m.\u001B[39mzeros((num_clients, \u001B[38;5;28mlen\u001B[39m(\u001B[43mclass_labels\u001B[49m)))\n\u001B[0;32m      3\u001B[0m x, y, n \u001B[38;5;241m=\u001B[39m [], [], []\n\u001B[0;32m      4\u001B[0m \u001B[38;5;28;01mfor\u001B[39;00m idx \u001B[38;5;129;01min\u001B[39;00m \u001B[38;5;28mrange\u001B[39m(num_clients):\n",
      "\u001B[1;31mNameError\u001B[0m: name 'class_labels' is not defined"
     ]
    }
   ],
   "source": [
    "mat = np.zeros((num_clients, len(class_labels)))\n",
    "\n",
    "x, y, n = [], [], []\n",
    "for idx in range(num_clients):\n",
    "    client_dir = os.path.join(client_data_dir, str(idx))\n",
    "    for class_idx, label in enumerate(class_labels):\n",
    "        class_dir = os.path.join(client_dir, label)\n",
    "        if os.path.exists(class_dir):\n",
    "            n.append((1*len(os.listdir(class_dir)))**1)\n",
    "            mat[idx][class_idx] = len(os.listdir(class_dir))\n",
    "        else:\n",
    "            n.append(0)\n",
    "            mat[idx][class_idx] = 0\n",
    "        y.append(label)\n",
    "        x.append(idx)"
   ]
  },
  {
   "cell_type": "code",
   "execution_count": 12,
   "metadata": {
    "ExecuteTime": {
     "end_time": "2024-09-30T05:07:15.420318Z",
     "start_time": "2024-09-30T05:07:15.196375Z"
    }
   },
   "outputs": [
    {
     "ename": "NameError",
     "evalue": "name 'mat' is not defined",
     "output_type": "error",
     "traceback": [
      "\u001B[1;31m---------------------------------------------------------------------------\u001B[0m",
      "\u001B[1;31mNameError\u001B[0m                                 Traceback (most recent call last)",
      "Cell \u001B[1;32mIn[12], line 4\u001B[0m\n\u001B[0;32m      1\u001B[0m fig \u001B[38;5;241m=\u001B[39m plt\u001B[38;5;241m.\u001B[39mfigure(figsize\u001B[38;5;241m=\u001B[39m(\u001B[38;5;241m6\u001B[39m,\u001B[38;5;241m4\u001B[39m))\n\u001B[0;32m      2\u001B[0m ax \u001B[38;5;241m=\u001B[39m fig\u001B[38;5;241m.\u001B[39madd_subplot()\n\u001B[1;32m----> 4\u001B[0m im \u001B[38;5;241m=\u001B[39m ax\u001B[38;5;241m.\u001B[39mpcolormesh(np\u001B[38;5;241m.\u001B[39mtranspose(\u001B[43mmat\u001B[49m), edgecolors\u001B[38;5;241m=\u001B[39m\u001B[38;5;124m'\u001B[39m\u001B[38;5;124mk\u001B[39m\u001B[38;5;124m'\u001B[39m, linewidth\u001B[38;5;241m=\u001B[39m\u001B[38;5;241m1\u001B[39m, cmap\u001B[38;5;241m=\u001B[39mplt\u001B[38;5;241m.\u001B[39mget_cmap(\u001B[38;5;124m'\u001B[39m\u001B[38;5;124mBlues\u001B[39m\u001B[38;5;124m'\u001B[39m))\n\u001B[0;32m      5\u001B[0m cbar \u001B[38;5;241m=\u001B[39m fig\u001B[38;5;241m.\u001B[39mcolorbar(im, ax\u001B[38;5;241m=\u001B[39max)\n\u001B[0;32m      6\u001B[0m cbar\u001B[38;5;241m.\u001B[39max\u001B[38;5;241m.\u001B[39mtick_params(labelsize\u001B[38;5;241m=\u001B[39m\u001B[38;5;241m12\u001B[39m)\n",
      "\u001B[1;31mNameError\u001B[0m: name 'mat' is not defined"
     ]
    },
    {
     "data": {
      "text/plain": "<Figure size 600x400 with 1 Axes>",
      "image/png": "[encoded data removed]"
     },
     "metadata": {},
     "output_type": "display_data"
    }
   ],
   "source": [
    "fig = plt.figure(figsize=(6,4))\n",
    "ax = fig.add_subplot()\n",
    "\n",
    "im = ax.pcolormesh(np.transpose(mat), edgecolors='k', linewidth=1, cmap=plt.get_cmap('Blues'))\n",
    "cbar = fig.colorbar(im, ax=ax)\n",
    "cbar.ax.tick_params(labelsize=12)\n",
    "\n",
    "ax.set_xlabel('Client $i$', fontsize=14)\n",
    "ax.set_ylabel('Classes', fontsize=14)\n",
    "\n",
    "yticks = class_labels\n",
    "\n",
    "ax.set_yticks(range(len(yticks)))\n",
    "ax.set_yticklabels(yticks)  \n",
    "\n",
    "ax.set_xticks(range(num_clients))\n",
    "\n",
    "ax.yaxis.set_tick_params(labelsize=12)\n",
    "ax.xaxis.set_tick_params(labelsize=12)\n",
    "plt.savefig(os.path.join(client_data_dir, 'client_data_amount.png'), dpi=300, bbox_inches='tight')\n",
    "plt.show()"
   ]
  },
  {
   "cell_type": "code",
   "execution_count": 12,
   "metadata": {
    "ExecuteTime": {
     "end_time": "2024-09-30T05:07:19.446528Z",
     "start_time": "2024-09-30T05:07:19.432526Z"
    }
   },
   "outputs": [],
   "source": []
  },
  {
   "cell_type": "code",
   "outputs": [],
   "source": [],
   "metadata": {
    "collapsed": false
   }
  }
 ],
 "metadata": {
  "kernelspec": {
   "display_name": "Python 3 (ipykernel)",
   "language": "python",
   "name": "python3"
  },
  "language_info": {
   "codemirror_mode": {
    "name": "ipython",
    "version": 3
   },
   "file_extension": ".py",
   "mimetype": "text/x-python",
   "name": "python",
   "nbconvert_exporter": "python",
   "pygments_lexer": "ipython3",
   "version": "3.9.0"
  }
 },
 "nbformat": 4,
 "nbformat_minor": 4
}
