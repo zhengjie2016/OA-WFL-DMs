{
 "cells": [
  {
   "cell_type": "code",
   "execution_count": 89,
   "metadata": {
    "tags": [],
    "ExecuteTime": {
     "end_time": "2024-10-09T08:23:00.526927Z",
     "start_time": "2024-10-09T08:23:00.517930Z"
    }
   },
   "outputs": [],
   "source": [
    "import os\n",
    "import sys\n",
    "sys.path.insert(1, os.path.join(sys.path[0], '../'))"
   ]
  },
  {
   "cell_type": "code",
   "execution_count": 90,
   "metadata": {
    "tags": [],
    "ExecuteTime": {
     "end_time": "2024-10-09T08:23:01.217929Z",
     "start_time": "2024-10-09T08:23:01.203928Z"
    }
   },
   "outputs": [],
   "source": [
    "import utils\n",
    "\n",
    "import numpy as np\n",
    "import matplotlib.pyplot as plt"
   ]
  },
  {
   "cell_type": "markdown",
   "metadata": {},
   "source": [
    "### Data Distribution"
   ]
  },
  {
   "cell_type": "code",
   "execution_count": 91,
   "metadata": {
    "tags": [],
    "ExecuteTime": {
     "end_time": "2024-10-09T08:23:12.051444Z",
     "start_time": "2024-10-09T08:23:12.031445Z"
    }
   },
   "outputs": [],
   "source": [
    "# Define dataset and settings.\n",
    "dataset_name = 'cifar_10'\n",
    "# dataset_name = 'svhn'\n",
    "#dataset_name = 'fashion_mnist'\n",
    "\n",
    "# Define distribution settings.\n",
    "beta = 0.1 # [0.1, 0.5, 5]\n",
    "num_clients = 10\n",
    "\n",
    "client_data_dir = os.path.join('./client_data/', dataset_name + '_b_{}_c_{}'.format(beta, num_clients))"
   ]
  },
  {
   "cell_type": "code",
   "execution_count": 86,
   "metadata": {
    "tags": [],
    "ExecuteTime": {
     "end_time": "2024-10-09T08:22:34.831857Z",
     "start_time": "2024-10-09T08:22:33.590855Z"
    }
   },
   "outputs": [
    {
     "name": "stdout",
     "output_type": "stream",
     "text": [
      "Files already downloaded and verified\n",
      "['airplane', 'automobile', 'bird', 'cat', 'deer', 'dog', 'frog', 'horse', 'ship', 'truck']\n"
     ]
    }
   ],
   "source": [
    "import torchvision\n",
    "\n",
    "# 加载 CIFAR-10 数据集（不需要指定 train/test 文件夹）\n",
    "train_data = torchvision.datasets.CIFAR10(root='datasets', train=True, download=True)\n",
    "\n",
    "# 获取 CIFAR-10 的类标签\n",
    "class_labels = train_data.classes  # 直接从数据集获取类标签\n",
    "print(class_labels)\n"
   ]
  },
  {
   "cell_type": "code",
   "execution_count": 87,
   "metadata": {
    "tags": [],
    "ExecuteTime": {
     "end_time": "2024-10-09T08:22:34.847855Z",
     "start_time": "2024-10-09T08:22:34.833855Z"
    }
   },
   "outputs": [],
   "source": [
    "mat = np.zeros((num_clients, len(class_labels)))\n",
    "\n",
    "x, y, n = [], [], []\n",
    "for idx in range(num_clients):\n",
    "    client_dir = os.path.join(client_data_dir, str(idx))\n",
    "    for class_idx, label in enumerate(class_labels):\n",
    "        class_dir = os.path.join(client_dir, label)\n",
    "        if os.path.exists(class_dir):\n",
    "            n.append((1*len(os.listdir(class_dir)))**1)\n",
    "            mat[idx][class_idx] = len(os.listdir(class_dir))\n",
    "        else:\n",
    "            n.append(0)\n",
    "            mat[idx][class_idx] = 0\n",
    "        y.append(label)\n",
    "        x.append(idx)"
   ]
  },
  {
   "cell_type": "code",
   "execution_count": 84,
   "metadata": {
    "ExecuteTime": {
     "end_time": "2024-10-09T08:20:49.305032Z",
     "start_time": "2024-10-09T08:20:48.717029Z"
    }
   },
   "outputs": [
    {
     "ename": "FileNotFoundError",
     "evalue": "[Errno 2] No such file or directory: './figures/cifar_10_b_0.1_c_10.pdf'",
     "output_type": "error",
     "traceback": [
      "\u001B[1;31m---------------------------------------------------------------------------\u001B[0m",
      "\u001B[1;31mFileNotFoundError\u001B[0m                         Traceback (most recent call last)",
      "Cell \u001B[1;32mIn[84], line 32\u001B[0m\n\u001B[0;32m     30\u001B[0m ax\u001B[38;5;241m.\u001B[39mxaxis\u001B[38;5;241m.\u001B[39mset_tick_params(labelsize\u001B[38;5;241m=\u001B[39m\u001B[38;5;241m14\u001B[39m)\n\u001B[0;32m     31\u001B[0m \u001B[38;5;66;03m# plt.savefig(os.path.join('./figures/', '{}_beta_{}.pdf'.format(dataset_name, beta)), dpi=300, bbox_inches='tight')\u001B[39;00m\n\u001B[1;32m---> 32\u001B[0m \u001B[43mplt\u001B[49m\u001B[38;5;241;43m.\u001B[39;49m\u001B[43msavefig\u001B[49m\u001B[43m(\u001B[49m\u001B[43mos\u001B[49m\u001B[38;5;241;43m.\u001B[39;49m\u001B[43mpath\u001B[49m\u001B[38;5;241;43m.\u001B[39;49m\u001B[43mjoin\u001B[49m\u001B[43m(\u001B[49m\u001B[38;5;124;43m'\u001B[39;49m\u001B[38;5;124;43m./figures/\u001B[39;49m\u001B[38;5;124;43m'\u001B[39;49m\u001B[43m,\u001B[49m\u001B[43m \u001B[49m\u001B[43mdataset_name\u001B[49m\u001B[43m \u001B[49m\u001B[38;5;241;43m+\u001B[39;49m\u001B[43m \u001B[49m\u001B[38;5;124;43m'\u001B[39;49m\u001B[38;5;124;43m_b_\u001B[39;49m\u001B[38;5;132;43;01m{}\u001B[39;49;00m\u001B[38;5;124;43m_c_\u001B[39;49m\u001B[38;5;132;43;01m{}\u001B[39;49;00m\u001B[38;5;124;43m.pdf\u001B[39;49m\u001B[38;5;124;43m'\u001B[39;49m\u001B[38;5;241;43m.\u001B[39;49m\u001B[43mformat\u001B[49m\u001B[43m(\u001B[49m\u001B[43mbeta\u001B[49m\u001B[43m,\u001B[49m\u001B[43m \u001B[49m\u001B[43mnum_clients\u001B[49m\u001B[43m)\u001B[49m\u001B[43m)\u001B[49m\u001B[43m,\u001B[49m\u001B[43m \u001B[49m\u001B[43mdpi\u001B[49m\u001B[38;5;241;43m=\u001B[39;49m\u001B[38;5;241;43m300\u001B[39;49m\u001B[43m,\u001B[49m\u001B[43m \u001B[49m\u001B[43mbbox_inches\u001B[49m\u001B[38;5;241;43m=\u001B[39;49m\u001B[38;5;124;43m'\u001B[39;49m\u001B[38;5;124;43mtight\u001B[39;49m\u001B[38;5;124;43m'\u001B[39;49m\u001B[43m)\u001B[49m\n\u001B[0;32m     33\u001B[0m plt\u001B[38;5;241m.\u001B[39mshow()\n",
      "File \u001B[1;32mD:\\Anaconda3\\envs\\lss666\\lib\\site-packages\\matplotlib\\pyplot.py:1119\u001B[0m, in \u001B[0;36msavefig\u001B[1;34m(*args, **kwargs)\u001B[0m\n\u001B[0;32m   1116\u001B[0m fig \u001B[38;5;241m=\u001B[39m gcf()\n\u001B[0;32m   1117\u001B[0m \u001B[38;5;66;03m# savefig default implementation has no return, so mypy is unhappy\u001B[39;00m\n\u001B[0;32m   1118\u001B[0m \u001B[38;5;66;03m# presumably this is here because subclasses can return?\u001B[39;00m\n\u001B[1;32m-> 1119\u001B[0m res \u001B[38;5;241m=\u001B[39m fig\u001B[38;5;241m.\u001B[39msavefig(\u001B[38;5;241m*\u001B[39margs, \u001B[38;5;241m*\u001B[39m\u001B[38;5;241m*\u001B[39mkwargs)  \u001B[38;5;66;03m# type: ignore[func-returns-value]\u001B[39;00m\n\u001B[0;32m   1120\u001B[0m fig\u001B[38;5;241m.\u001B[39mcanvas\u001B[38;5;241m.\u001B[39mdraw_idle()  \u001B[38;5;66;03m# Need this if 'transparent=True', to reset colors.\u001B[39;00m\n\u001B[0;32m   1121\u001B[0m \u001B[38;5;28;01mreturn\u001B[39;00m res\n",
      "File \u001B[1;32mD:\\Anaconda3\\envs\\lss666\\lib\\site-packages\\matplotlib\\figure.py:3390\u001B[0m, in \u001B[0;36mFigure.savefig\u001B[1;34m(self, fname, transparent, **kwargs)\u001B[0m\n\u001B[0;32m   3388\u001B[0m     \u001B[38;5;28;01mfor\u001B[39;00m ax \u001B[38;5;129;01min\u001B[39;00m \u001B[38;5;28mself\u001B[39m\u001B[38;5;241m.\u001B[39maxes:\n\u001B[0;32m   3389\u001B[0m         _recursively_make_axes_transparent(stack, ax)\n\u001B[1;32m-> 3390\u001B[0m \u001B[38;5;28mself\u001B[39m\u001B[38;5;241m.\u001B[39mcanvas\u001B[38;5;241m.\u001B[39mprint_figure(fname, \u001B[38;5;241m*\u001B[39m\u001B[38;5;241m*\u001B[39mkwargs)\n",
      "File \u001B[1;32mD:\\Anaconda3\\envs\\lss666\\lib\\site-packages\\matplotlib\\backend_bases.py:2193\u001B[0m, in \u001B[0;36mFigureCanvasBase.print_figure\u001B[1;34m(self, filename, dpi, facecolor, edgecolor, orientation, format, bbox_inches, pad_inches, bbox_extra_artists, backend, **kwargs)\u001B[0m\n\u001B[0;32m   2189\u001B[0m \u001B[38;5;28;01mtry\u001B[39;00m:\n\u001B[0;32m   2190\u001B[0m     \u001B[38;5;66;03m# _get_renderer may change the figure dpi (as vector formats\u001B[39;00m\n\u001B[0;32m   2191\u001B[0m     \u001B[38;5;66;03m# force the figure dpi to 72), so we need to set it again here.\u001B[39;00m\n\u001B[0;32m   2192\u001B[0m     \u001B[38;5;28;01mwith\u001B[39;00m cbook\u001B[38;5;241m.\u001B[39m_setattr_cm(\u001B[38;5;28mself\u001B[39m\u001B[38;5;241m.\u001B[39mfigure, dpi\u001B[38;5;241m=\u001B[39mdpi):\n\u001B[1;32m-> 2193\u001B[0m         result \u001B[38;5;241m=\u001B[39m print_method(\n\u001B[0;32m   2194\u001B[0m             filename,\n\u001B[0;32m   2195\u001B[0m             facecolor\u001B[38;5;241m=\u001B[39mfacecolor,\n\u001B[0;32m   2196\u001B[0m             edgecolor\u001B[38;5;241m=\u001B[39medgecolor,\n\u001B[0;32m   2197\u001B[0m             orientation\u001B[38;5;241m=\u001B[39morientation,\n\u001B[0;32m   2198\u001B[0m             bbox_inches_restore\u001B[38;5;241m=\u001B[39m_bbox_inches_restore,\n\u001B[0;32m   2199\u001B[0m             \u001B[38;5;241m*\u001B[39m\u001B[38;5;241m*\u001B[39mkwargs)\n\u001B[0;32m   2200\u001B[0m \u001B[38;5;28;01mfinally\u001B[39;00m:\n\u001B[0;32m   2201\u001B[0m     \u001B[38;5;28;01mif\u001B[39;00m bbox_inches \u001B[38;5;129;01mand\u001B[39;00m restore_bbox:\n",
      "File \u001B[1;32mD:\\Anaconda3\\envs\\lss666\\lib\\site-packages\\matplotlib\\backend_bases.py:2043\u001B[0m, in \u001B[0;36mFigureCanvasBase._switch_canvas_and_return_print_method.<locals>.<lambda>\u001B[1;34m(*args, **kwargs)\u001B[0m\n\u001B[0;32m   2039\u001B[0m     optional_kws \u001B[38;5;241m=\u001B[39m {  \u001B[38;5;66;03m# Passed by print_figure for other renderers.\u001B[39;00m\n\u001B[0;32m   2040\u001B[0m         \u001B[38;5;124m\"\u001B[39m\u001B[38;5;124mdpi\u001B[39m\u001B[38;5;124m\"\u001B[39m, \u001B[38;5;124m\"\u001B[39m\u001B[38;5;124mfacecolor\u001B[39m\u001B[38;5;124m\"\u001B[39m, \u001B[38;5;124m\"\u001B[39m\u001B[38;5;124medgecolor\u001B[39m\u001B[38;5;124m\"\u001B[39m, \u001B[38;5;124m\"\u001B[39m\u001B[38;5;124morientation\u001B[39m\u001B[38;5;124m\"\u001B[39m,\n\u001B[0;32m   2041\u001B[0m         \u001B[38;5;124m\"\u001B[39m\u001B[38;5;124mbbox_inches_restore\u001B[39m\u001B[38;5;124m\"\u001B[39m}\n\u001B[0;32m   2042\u001B[0m     skip \u001B[38;5;241m=\u001B[39m optional_kws \u001B[38;5;241m-\u001B[39m {\u001B[38;5;241m*\u001B[39minspect\u001B[38;5;241m.\u001B[39msignature(meth)\u001B[38;5;241m.\u001B[39mparameters}\n\u001B[1;32m-> 2043\u001B[0m     print_method \u001B[38;5;241m=\u001B[39m functools\u001B[38;5;241m.\u001B[39mwraps(meth)(\u001B[38;5;28;01mlambda\u001B[39;00m \u001B[38;5;241m*\u001B[39margs, \u001B[38;5;241m*\u001B[39m\u001B[38;5;241m*\u001B[39mkwargs: meth(\n\u001B[0;32m   2044\u001B[0m         \u001B[38;5;241m*\u001B[39margs, \u001B[38;5;241m*\u001B[39m\u001B[38;5;241m*\u001B[39m{k: v \u001B[38;5;28;01mfor\u001B[39;00m k, v \u001B[38;5;129;01min\u001B[39;00m kwargs\u001B[38;5;241m.\u001B[39mitems() \u001B[38;5;28;01mif\u001B[39;00m k \u001B[38;5;129;01mnot\u001B[39;00m \u001B[38;5;129;01min\u001B[39;00m skip}))\n\u001B[0;32m   2045\u001B[0m \u001B[38;5;28;01melse\u001B[39;00m:  \u001B[38;5;66;03m# Let third-parties do as they see fit.\u001B[39;00m\n\u001B[0;32m   2046\u001B[0m     print_method \u001B[38;5;241m=\u001B[39m meth\n",
      "File \u001B[1;32mD:\\Anaconda3\\envs\\lss666\\lib\\site-packages\\matplotlib\\backends\\backend_pdf.py:2800\u001B[0m, in \u001B[0;36mFigureCanvasPdf.print_pdf\u001B[1;34m(self, filename, bbox_inches_restore, metadata)\u001B[0m\n\u001B[0;32m   2798\u001B[0m     file \u001B[38;5;241m=\u001B[39m filename\u001B[38;5;241m.\u001B[39m_ensure_file()\n\u001B[0;32m   2799\u001B[0m \u001B[38;5;28;01melse\u001B[39;00m:\n\u001B[1;32m-> 2800\u001B[0m     file \u001B[38;5;241m=\u001B[39m \u001B[43mPdfFile\u001B[49m\u001B[43m(\u001B[49m\u001B[43mfilename\u001B[49m\u001B[43m,\u001B[49m\u001B[43m \u001B[49m\u001B[43mmetadata\u001B[49m\u001B[38;5;241;43m=\u001B[39;49m\u001B[43mmetadata\u001B[49m\u001B[43m)\u001B[49m\n\u001B[0;32m   2801\u001B[0m \u001B[38;5;28;01mtry\u001B[39;00m:\n\u001B[0;32m   2802\u001B[0m     file\u001B[38;5;241m.\u001B[39mnewPage(width, height)\n",
      "File \u001B[1;32mD:\\Anaconda3\\envs\\lss666\\lib\\site-packages\\matplotlib\\backends\\backend_pdf.py:688\u001B[0m, in \u001B[0;36mPdfFile.__init__\u001B[1;34m(self, filename, metadata)\u001B[0m\n\u001B[0;32m    686\u001B[0m \u001B[38;5;28mself\u001B[39m\u001B[38;5;241m.\u001B[39moriginal_file_like \u001B[38;5;241m=\u001B[39m \u001B[38;5;28;01mNone\u001B[39;00m\n\u001B[0;32m    687\u001B[0m \u001B[38;5;28mself\u001B[39m\u001B[38;5;241m.\u001B[39mtell_base \u001B[38;5;241m=\u001B[39m \u001B[38;5;241m0\u001B[39m\n\u001B[1;32m--> 688\u001B[0m fh, opened \u001B[38;5;241m=\u001B[39m \u001B[43mcbook\u001B[49m\u001B[38;5;241;43m.\u001B[39;49m\u001B[43mto_filehandle\u001B[49m\u001B[43m(\u001B[49m\u001B[43mfilename\u001B[49m\u001B[43m,\u001B[49m\u001B[43m \u001B[49m\u001B[38;5;124;43m\"\u001B[39;49m\u001B[38;5;124;43mwb\u001B[39;49m\u001B[38;5;124;43m\"\u001B[39;49m\u001B[43m,\u001B[49m\u001B[43m \u001B[49m\u001B[43mreturn_opened\u001B[49m\u001B[38;5;241;43m=\u001B[39;49m\u001B[38;5;28;43;01mTrue\u001B[39;49;00m\u001B[43m)\u001B[49m\n\u001B[0;32m    689\u001B[0m \u001B[38;5;28;01mif\u001B[39;00m \u001B[38;5;129;01mnot\u001B[39;00m opened:\n\u001B[0;32m    690\u001B[0m     \u001B[38;5;28;01mtry\u001B[39;00m:\n",
      "File \u001B[1;32mD:\\Anaconda3\\envs\\lss666\\lib\\site-packages\\matplotlib\\cbook.py:483\u001B[0m, in \u001B[0;36mto_filehandle\u001B[1;34m(fname, flag, return_opened, encoding)\u001B[0m\n\u001B[0;32m    481\u001B[0m         fh \u001B[38;5;241m=\u001B[39m bz2\u001B[38;5;241m.\u001B[39mBZ2File(fname, flag)\n\u001B[0;32m    482\u001B[0m     \u001B[38;5;28;01melse\u001B[39;00m:\n\u001B[1;32m--> 483\u001B[0m         fh \u001B[38;5;241m=\u001B[39m \u001B[38;5;28;43mopen\u001B[39;49m\u001B[43m(\u001B[49m\u001B[43mfname\u001B[49m\u001B[43m,\u001B[49m\u001B[43m \u001B[49m\u001B[43mflag\u001B[49m\u001B[43m,\u001B[49m\u001B[43m \u001B[49m\u001B[43mencoding\u001B[49m\u001B[38;5;241;43m=\u001B[39;49m\u001B[43mencoding\u001B[49m\u001B[43m)\u001B[49m\n\u001B[0;32m    484\u001B[0m     opened \u001B[38;5;241m=\u001B[39m \u001B[38;5;28;01mTrue\u001B[39;00m\n\u001B[0;32m    485\u001B[0m \u001B[38;5;28;01melif\u001B[39;00m \u001B[38;5;28mhasattr\u001B[39m(fname, \u001B[38;5;124m'\u001B[39m\u001B[38;5;124mseek\u001B[39m\u001B[38;5;124m'\u001B[39m):\n",
      "\u001B[1;31mFileNotFoundError\u001B[0m: [Errno 2] No such file or directory: './figures/cifar_10_b_0.1_c_10.pdf'"
     ]
    },
    {
     "data": {
      "text/plain": "<Figure size 600x500 with 2 Axes>",
      "image/png": "[encoded data removed]"
     },
     "metadata": {},
     "output_type": "display_data"
    }
   ],
   "source": [
    "fig = plt.figure(figsize=(6, 5))\n",
    "ax = fig.add_subplot()\n",
    "\n",
    "ax.tick_params(\n",
    "    axis='both',          # changes apply to the x-axis\n",
    "    which='both',      # both major and minor ticks are affected\n",
    "    bottom=False,      # ticks along the bottom edge are off\n",
    "    left=False,\n",
    "    labelbottom=True  # labels along the bottom edge are off\n",
    ") \n",
    "\n",
    "im = ax.pcolormesh(np.transpose(mat), edgecolors='k', linewidth=0, cmap=plt.get_cmap('Blues'))\n",
    "cbar = fig.colorbar(im, ax=ax)\n",
    "cbar.ax.tick_params(labelsize=14)\n",
    "\n",
    "ax.set_xlabel('Client $i$', fontsize=16)\n",
    "ax.set_ylabel('Class ID', fontsize=16)\n",
    "\n",
    "yticks = range(1, len(class_labels)+1)\n",
    "ax.set_yticks(range(0, len(yticks)))\n",
    "ax.set_yticks([float(n)+0.5 for n in ax.get_yticks()])\n",
    "ax.set_yticklabels(yticks)  \n",
    "\n",
    "xticks = range(1, num_clients+1)\n",
    "ax.set_xticks(range(0, num_clients))\n",
    "ax.set_xticks([float(n)+0.5 for n in ax.get_xticks()])\n",
    "ax.set_xticklabels(xticks) \n",
    "\n",
    "ax.yaxis.set_tick_params(labelsize=14)\n",
    "ax.xaxis.set_tick_params(labelsize=14)\n",
    "# plt.savefig(os.path.join('./figures/', '{}_beta_{}.pdf'.format(dataset_name, beta)), dpi=300, bbox_inches='tight')\n",
    "plt.savefig(os.path.join('./figures/', dataset_name + '_b_{}_c_{}.pdf'.format(beta, num_clients)), dpi=300, bbox_inches='tight')\n",
    "plt.show()"
   ]
  },
  {
   "cell_type": "markdown",
   "metadata": {},
   "source": [
    "### Adding Noise "
   ]
  },
  {
   "cell_type": "code",
   "execution_count": 57,
   "metadata": {
    "ExecuteTime": {
     "end_time": "2024-10-08T08:21:19.895894Z",
     "start_time": "2024-10-08T08:21:19.882896Z"
    }
   },
   "outputs": [],
   "source": [
    "import os\n",
    "os.environ['CUDA_DEVICE_ORDER'] = 'PCI_BUS_ID'\n",
    "os.environ['CUDA_VISIBLE_DEVICES'] = '4'"
   ]
  },
  {
   "cell_type": "code",
   "execution_count": 58,
   "metadata": {
    "ExecuteTime": {
     "end_time": "2024-10-08T08:21:20.606895Z",
     "start_time": "2024-10-08T08:21:20.591895Z"
    }
   },
   "outputs": [],
   "source": [
    "device = torch.device('cuda' if torch.cuda.is_available() else 'cpu')"
   ]
  },
  {
   "cell_type": "code",
   "execution_count": 59,
   "metadata": {
    "ExecuteTime": {
     "end_time": "2024-10-08T08:21:21.267895Z",
     "start_time": "2024-10-08T08:21:21.250898Z"
    }
   },
   "outputs": [],
   "source": [
    "from training import get_config, ImgDataset\n",
    "\n",
    "import torch\n",
    "import torch.nn.functional as F"
   ]
  },
  {
   "cell_type": "code",
   "execution_count": 60,
   "metadata": {
    "ExecuteTime": {
     "end_time": "2024-10-08T08:21:22.186893Z",
     "start_time": "2024-10-08T08:21:22.161897Z"
    }
   },
   "outputs": [],
   "source": [
    "# Define dataset.\n",
    "dataset_name = 'cifar_10'\n",
    "# dataset_name = 'svhn'\n",
    "# dataset_name = 'fashion_mnist'\n",
    "\n",
    "data_config, train_config = get_config(dataset_name)\n",
    "\n",
    "test_transform = data_config['test_transform']"
   ]
  },
  {
   "cell_type": "code",
   "execution_count": 61,
   "metadata": {
    "ExecuteTime": {
     "end_time": "2024-10-08T08:21:22.910527Z",
     "start_time": "2024-10-08T08:21:22.862523Z"
    }
   },
   "outputs": [
    {
     "ename": "FileNotFoundError",
     "evalue": "[WinError 3] 系统找不到指定的路径。: 'datasets\\\\cifar_10\\\\test'",
     "output_type": "error",
     "traceback": [
      "\u001B[1;31m---------------------------------------------------------------------------\u001B[0m",
      "\u001B[1;31mFileNotFoundError\u001B[0m                         Traceback (most recent call last)",
      "Cell \u001B[1;32mIn[61], line 5\u001B[0m\n\u001B[0;32m      2\u001B[0m data_dir \u001B[38;5;241m=\u001B[39m os\u001B[38;5;241m.\u001B[39mpath\u001B[38;5;241m.\u001B[39mjoin(\u001B[38;5;124m'\u001B[39m\u001B[38;5;124mdatasets\u001B[39m\u001B[38;5;124m'\u001B[39m, dataset_name)\n\u001B[0;32m      4\u001B[0m test_dir \u001B[38;5;241m=\u001B[39m os\u001B[38;5;241m.\u001B[39mpath\u001B[38;5;241m.\u001B[39mjoin(data_dir, \u001B[38;5;124m'\u001B[39m\u001B[38;5;124mtest\u001B[39m\u001B[38;5;124m'\u001B[39m)\n\u001B[1;32m----> 5\u001B[0m test_data \u001B[38;5;241m=\u001B[39m \u001B[43mImgDataset\u001B[49m\u001B[43m(\u001B[49m\u001B[43mtest_dir\u001B[49m\u001B[43m,\u001B[49m\u001B[43m \u001B[49m\u001B[43mtransform\u001B[49m\u001B[38;5;241;43m=\u001B[39;49m\u001B[43mtest_transform\u001B[49m\u001B[43m)\u001B[49m\n",
      "File \u001B[1;32mE:\\LSS\\federated_diffusion_model-main\\training.py:70\u001B[0m, in \u001B[0;36mImgDataset.__init__\u001B[1;34m(self, parent_dir, label_idx_dict, transform)\u001B[0m\n\u001B[0;32m     67\u001B[0m \u001B[38;5;28mself\u001B[39m\u001B[38;5;241m.\u001B[39mlabel_idx_dict \u001B[38;5;241m=\u001B[39m label_idx_dict\n\u001B[0;32m     68\u001B[0m \u001B[38;5;28mself\u001B[39m\u001B[38;5;241m.\u001B[39mlabel_count_dict \u001B[38;5;241m=\u001B[39m {}\n\u001B[1;32m---> 70\u001B[0m sub_dirs \u001B[38;5;241m=\u001B[39m [f\u001B[38;5;241m.\u001B[39mname \u001B[38;5;28;01mfor\u001B[39;00m f \u001B[38;5;129;01min\u001B[39;00m \u001B[43mos\u001B[49m\u001B[38;5;241;43m.\u001B[39;49m\u001B[43mscandir\u001B[49m\u001B[43m(\u001B[49m\u001B[43mparent_dir\u001B[49m\u001B[43m)\u001B[49m \u001B[38;5;28;01mif\u001B[39;00m f\u001B[38;5;241m.\u001B[39mis_dir()]\n\u001B[0;32m     71\u001B[0m sub_dirs\u001B[38;5;241m.\u001B[39msort()\n\u001B[0;32m     72\u001B[0m \u001B[38;5;28;01mif\u001B[39;00m \u001B[38;5;28mself\u001B[39m\u001B[38;5;241m.\u001B[39mlabel_idx_dict \u001B[38;5;129;01mis\u001B[39;00m \u001B[38;5;28;01mNone\u001B[39;00m:\n",
      "\u001B[1;31mFileNotFoundError\u001B[0m: [WinError 3] 系统找不到指定的路径。: 'datasets\\\\cifar_10\\\\test'"
     ]
    }
   ],
   "source": [
    "# Data.\n",
    "data_dir = os.path.join('datasets', dataset_name)\n",
    "\n",
    "test_dir = os.path.join(data_dir, 'test')\n",
    "test_data = ImgDataset(test_dir, transform=test_transform)"
   ]
  },
  {
   "cell_type": "code",
   "execution_count": 62,
   "metadata": {
    "ExecuteTime": {
     "end_time": "2024-10-08T08:21:52.230020Z",
     "start_time": "2024-10-08T08:21:52.216020Z"
    }
   },
   "outputs": [],
   "source": [
    "def linear_beta_schedule(timesteps):\n",
    "    beta_start = 0.0001\n",
    "    beta_end = 0.02\n",
    "    return torch.linspace(beta_start, beta_end, timesteps)"
   ]
  },
  {
   "cell_type": "code",
   "execution_count": 63,
   "metadata": {
    "ExecuteTime": {
     "end_time": "2024-10-08T08:21:53.163615Z",
     "start_time": "2024-10-08T08:21:53.120618Z"
    }
   },
   "outputs": [],
   "source": [
    "timesteps = 300\n",
    "\n",
    "# define beta schedule\n",
    "betas = linear_beta_schedule(timesteps=timesteps)\n",
    "\n",
    "# define alphas \n",
    "alphas = 1. - betas\n",
    "alphas_cumprod = torch.cumprod(alphas, axis=0)\n",
    "alphas_cumprod_prev = F.pad(alphas_cumprod[:-1], (1, 0), value=1.0)\n",
    "sqrt_recip_alphas = torch.sqrt(1.0 / alphas)\n",
    "\n",
    "# calculations for diffusion q(x_t | x_{t-1}) and others\n",
    "sqrt_alphas_cumprod = torch.sqrt(alphas_cumprod)\n",
    "sqrt_one_minus_alphas_cumprod = torch.sqrt(1. - alphas_cumprod)\n",
    "\n",
    "# calculations for posterior q(x_{t-1} | x_t, x_0)\n",
    "posterior_variance = betas * (1. - alphas_cumprod_prev) / (1. - alphas_cumprod)\n",
    "\n",
    "def extract(a, t, x_shape):\n",
    "    batch_size = t.shape[0]\n",
    "    out = a.gather(-1, t.cpu())\n",
    "    return out.reshape(batch_size, *((1,) * (len(x_shape) - 1))).to(t.device)"
   ]
  },
  {
   "cell_type": "code",
   "execution_count": 64,
   "metadata": {
    "ExecuteTime": {
     "end_time": "2024-10-08T08:21:54.445052Z",
     "start_time": "2024-10-08T08:21:54.429051Z"
    }
   },
   "outputs": [],
   "source": [
    "# forward diffusion (using the nice property)\n",
    "def q_sample(x_start, t, noise=None):\n",
    "    if noise is None:\n",
    "        noise = torch.randn_like(x_start)\n",
    "\n",
    "    sqrt_alphas_cumprod_t = extract(sqrt_alphas_cumprod, t, x_start.shape)\n",
    "    sqrt_one_minus_alphas_cumprod_t = extract(\n",
    "        sqrt_one_minus_alphas_cumprod, t, x_start.shape\n",
    "    )\n",
    "\n",
    "    return sqrt_alphas_cumprod_t * x_start + sqrt_one_minus_alphas_cumprod_t * noise\n",
    "\n",
    "def get_noisy_image(x_start, t):\n",
    "    # add noise\n",
    "    x_noisy = q_sample(x_start, t=t)\n",
    "    return x_noisy"
   ]
  },
  {
   "cell_type": "code",
   "execution_count": 65,
   "metadata": {
    "ExecuteTime": {
     "end_time": "2024-10-08T08:21:55.421138Z",
     "start_time": "2024-10-08T08:21:55.391053Z"
    }
   },
   "outputs": [
    {
     "ename": "NameError",
     "evalue": "name 'test_data' is not defined",
     "output_type": "error",
     "traceback": [
      "\u001B[1;31m---------------------------------------------------------------------------\u001B[0m",
      "\u001B[1;31mNameError\u001B[0m                                 Traceback (most recent call last)",
      "Cell \u001B[1;32mIn[65], line 1\u001B[0m\n\u001B[1;32m----> 1\u001B[0m x, y \u001B[38;5;241m=\u001B[39m \u001B[43mtest_data\u001B[49m[\u001B[38;5;241m7003\u001B[39m]\n\u001B[0;32m      2\u001B[0m x \u001B[38;5;241m=\u001B[39m x\u001B[38;5;241m.\u001B[39mto(device)\n\u001B[0;32m      3\u001B[0m utils\u001B[38;5;241m.\u001B[39mshow_img_tensor(x, save_path\u001B[38;5;241m=\u001B[39mos\u001B[38;5;241m.\u001B[39mpath\u001B[38;5;241m.\u001B[39mjoin(\u001B[38;5;124m'\u001B[39m\u001B[38;5;124m./figures/x0.png\u001B[39m\u001B[38;5;124m'\u001B[39m))\n",
      "\u001B[1;31mNameError\u001B[0m: name 'test_data' is not defined"
     ]
    }
   ],
   "source": [
    "x, y = test_data[7003]\n",
    "x = x.to(device)\n",
    "utils.show_img_tensor(x, save_path=os.path.join('./figures/x0.png'))"
   ]
  },
  {
   "cell_type": "code",
   "execution_count": 66,
   "metadata": {
    "ExecuteTime": {
     "end_time": "2024-10-08T08:21:56.812672Z",
     "start_time": "2024-10-08T08:21:56.755672Z"
    }
   },
   "outputs": [
    {
     "ename": "TypeError",
     "evalue": "randn_like(): argument 'input' (position 1) must be Tensor, not list",
     "output_type": "error",
     "traceback": [
      "\u001B[1;31m---------------------------------------------------------------------------\u001B[0m",
      "\u001B[1;31mTypeError\u001B[0m                                 Traceback (most recent call last)",
      "Cell \u001B[1;32mIn[66], line 3\u001B[0m\n\u001B[0;32m      1\u001B[0m \u001B[38;5;66;03m# take time step\u001B[39;00m\n\u001B[0;32m      2\u001B[0m t \u001B[38;5;241m=\u001B[39m torch\u001B[38;5;241m.\u001B[39mtensor([\u001B[38;5;241m299\u001B[39m], device\u001B[38;5;241m=\u001B[39mdevice)\n\u001B[1;32m----> 3\u001B[0m x_noisy \u001B[38;5;241m=\u001B[39m \u001B[43mget_noisy_image\u001B[49m\u001B[43m(\u001B[49m\u001B[43mx\u001B[49m\u001B[43m,\u001B[49m\u001B[43m \u001B[49m\u001B[43mt\u001B[49m\u001B[43m)\u001B[49m\n",
      "Cell \u001B[1;32mIn[64], line 15\u001B[0m, in \u001B[0;36mget_noisy_image\u001B[1;34m(x_start, t)\u001B[0m\n\u001B[0;32m     13\u001B[0m \u001B[38;5;28;01mdef\u001B[39;00m \u001B[38;5;21mget_noisy_image\u001B[39m(x_start, t):\n\u001B[0;32m     14\u001B[0m     \u001B[38;5;66;03m# add noise\u001B[39;00m\n\u001B[1;32m---> 15\u001B[0m     x_noisy \u001B[38;5;241m=\u001B[39m \u001B[43mq_sample\u001B[49m\u001B[43m(\u001B[49m\u001B[43mx_start\u001B[49m\u001B[43m,\u001B[49m\u001B[43m \u001B[49m\u001B[43mt\u001B[49m\u001B[38;5;241;43m=\u001B[39;49m\u001B[43mt\u001B[49m\u001B[43m)\u001B[49m\n\u001B[0;32m     16\u001B[0m     \u001B[38;5;28;01mreturn\u001B[39;00m x_noisy\n",
      "Cell \u001B[1;32mIn[64], line 4\u001B[0m, in \u001B[0;36mq_sample\u001B[1;34m(x_start, t, noise)\u001B[0m\n\u001B[0;32m      2\u001B[0m \u001B[38;5;28;01mdef\u001B[39;00m \u001B[38;5;21mq_sample\u001B[39m(x_start, t, noise\u001B[38;5;241m=\u001B[39m\u001B[38;5;28;01mNone\u001B[39;00m):\n\u001B[0;32m      3\u001B[0m     \u001B[38;5;28;01mif\u001B[39;00m noise \u001B[38;5;129;01mis\u001B[39;00m \u001B[38;5;28;01mNone\u001B[39;00m:\n\u001B[1;32m----> 4\u001B[0m         noise \u001B[38;5;241m=\u001B[39m \u001B[43mtorch\u001B[49m\u001B[38;5;241;43m.\u001B[39;49m\u001B[43mrandn_like\u001B[49m\u001B[43m(\u001B[49m\u001B[43mx_start\u001B[49m\u001B[43m)\u001B[49m\n\u001B[0;32m      6\u001B[0m     sqrt_alphas_cumprod_t \u001B[38;5;241m=\u001B[39m extract(sqrt_alphas_cumprod, t, x_start\u001B[38;5;241m.\u001B[39mshape)\n\u001B[0;32m      7\u001B[0m     sqrt_one_minus_alphas_cumprod_t \u001B[38;5;241m=\u001B[39m extract(\n\u001B[0;32m      8\u001B[0m         sqrt_one_minus_alphas_cumprod, t, x_start\u001B[38;5;241m.\u001B[39mshape\n\u001B[0;32m      9\u001B[0m     )\n",
      "\u001B[1;31mTypeError\u001B[0m: randn_like(): argument 'input' (position 1) must be Tensor, not list"
     ]
    }
   ],
   "source": [
    "# take time step\n",
    "t = torch.tensor([299], device=device)\n",
    "x_noisy = get_noisy_image(x, t)"
   ]
  },
  {
   "cell_type": "code",
   "execution_count": 67,
   "metadata": {
    "ExecuteTime": {
     "end_time": "2024-10-08T08:21:57.440670Z",
     "start_time": "2024-10-08T08:21:57.412674Z"
    }
   },
   "outputs": [
    {
     "ename": "NameError",
     "evalue": "name 'x_noisy' is not defined",
     "output_type": "error",
     "traceback": [
      "\u001B[1;31m---------------------------------------------------------------------------\u001B[0m",
      "\u001B[1;31mNameError\u001B[0m                                 Traceback (most recent call last)",
      "Cell \u001B[1;32mIn[67], line 1\u001B[0m\n\u001B[1;32m----> 1\u001B[0m utils\u001B[38;5;241m.\u001B[39mshow_img_tensor(\u001B[43mx_noisy\u001B[49m, save_path\u001B[38;5;241m=\u001B[39mos\u001B[38;5;241m.\u001B[39mpath\u001B[38;5;241m.\u001B[39mjoin(\u001B[38;5;124m'\u001B[39m\u001B[38;5;124m./figures/x\u001B[39m\u001B[38;5;132;01m{}\u001B[39;00m\u001B[38;5;124m.png\u001B[39m\u001B[38;5;124m'\u001B[39m\u001B[38;5;241m.\u001B[39mformat(t\u001B[38;5;241m.\u001B[39mitem())))\n",
      "\u001B[1;31mNameError\u001B[0m: name 'x_noisy' is not defined"
     ]
    }
   ],
   "source": [
    "utils.show_img_tensor(x_noisy, save_path=os.path.join('./figures/x{}.png'.format(t.item())))"
   ]
  },
  {
   "cell_type": "code",
   "execution_count": 78,
   "metadata": {
    "ExecuteTime": {
     "end_time": "2024-10-09T08:20:35.562432Z",
     "start_time": "2024-10-09T08:20:35.517432Z"
    }
   },
   "outputs": [
    {
     "data": {
      "text/plain": "tensor([0.2107, 0.6225, 0.8727, 0.4603, 0.3292, 0.9960, 0.7453, 0.0801, 0.0532,\n        0.6526])"
     },
     "execution_count": 78,
     "metadata": {},
     "output_type": "execute_result"
    }
   ],
   "source": [
    " import torch\n",
    "\n",
    "reals = torch.randn(10, 3, 32, 32)\n",
    "    \n",
    "rng = torch.quasirandom.SobolEngine(1, scramble=True)\n",
    "    \n",
    "# Draw uniformly distributed continuous timeteps\n",
    "t = rng.draw(reals.shape[0])[:, 0]\n",
    "t"
   ]
  },
  {
   "cell_type": "markdown",
   "metadata": {},
   "source": [
    "### Plottings"
   ]
  },
  {
   "cell_type": "code",
   "execution_count": 77,
   "metadata": {
    "ExecuteTime": {
     "end_time": "2024-10-09T08:20:29.245207Z",
     "start_time": "2024-10-09T08:20:28.178209Z"
    }
   },
   "outputs": [
    {
     "ename": "FileNotFoundError",
     "evalue": "[Errno 2] No such file or directory: './figures/fidtrain_epoch.pdf'",
     "output_type": "error",
     "traceback": [
      "\u001B[1;31m---------------------------------------------------------------------------\u001B[0m",
      "\u001B[1;31mFileNotFoundError\u001B[0m                         Traceback (most recent call last)",
      "Cell \u001B[1;32mIn[77], line 96\u001B[0m\n\u001B[0;32m     94\u001B[0m plt\u001B[38;5;241m.\u001B[39mgrid(\u001B[38;5;28;01mTrue\u001B[39;00m, linestyle\u001B[38;5;241m=\u001B[39m\u001B[38;5;124m'\u001B[39m\u001B[38;5;124m-.\u001B[39m\u001B[38;5;124m'\u001B[39m)\n\u001B[0;32m     95\u001B[0m plt\u001B[38;5;241m.\u001B[39mlegend(loc\u001B[38;5;241m=\u001B[39m\u001B[38;5;124m'\u001B[39m\u001B[38;5;124mupper center\u001B[39m\u001B[38;5;124m'\u001B[39m, bbox_to_anchor\u001B[38;5;241m=\u001B[39m(\u001B[38;5;241m0.5\u001B[39m, \u001B[38;5;241m1.10\u001B[39m), ncol\u001B[38;5;241m=\u001B[39m\u001B[38;5;241m3\u001B[39m, fancybox\u001B[38;5;241m=\u001B[39m\u001B[38;5;28;01mTrue\u001B[39;00m, shadow\u001B[38;5;241m=\u001B[39m\u001B[38;5;28;01mTrue\u001B[39;00m, fontsize\u001B[38;5;241m=\u001B[39m\u001B[38;5;241m12\u001B[39m)\n\u001B[1;32m---> 96\u001B[0m \u001B[43mplt\u001B[49m\u001B[38;5;241;43m.\u001B[39;49m\u001B[43msavefig\u001B[49m\u001B[43m(\u001B[49m\u001B[43mos\u001B[49m\u001B[38;5;241;43m.\u001B[39;49m\u001B[43mpath\u001B[49m\u001B[38;5;241;43m.\u001B[39;49m\u001B[43mjoin\u001B[49m\u001B[43m(\u001B[49m\u001B[38;5;124;43m'\u001B[39;49m\u001B[38;5;124;43m./figures/\u001B[39;49m\u001B[38;5;124;43m'\u001B[39;49m\u001B[43m,\u001B[49m\u001B[43m \u001B[49m\u001B[38;5;124;43m'\u001B[39;49m\u001B[38;5;132;43;01m{}\u001B[39;49;00m\u001B[38;5;124;43m.pdf\u001B[39;49m\u001B[38;5;124;43m'\u001B[39;49m\u001B[38;5;241;43m.\u001B[39;49m\u001B[43mformat\u001B[49m\u001B[43m(\u001B[49m\u001B[43mplot_name\u001B[49m\u001B[43m)\u001B[49m\u001B[43m)\u001B[49m\u001B[43m,\u001B[49m\u001B[43m \u001B[49m\u001B[43mdpi\u001B[49m\u001B[38;5;241;43m=\u001B[39;49m\u001B[38;5;241;43m300\u001B[39;49m\u001B[43m,\u001B[49m\u001B[43m \u001B[49m\u001B[43mbbox_inches\u001B[49m\u001B[38;5;241;43m=\u001B[39;49m\u001B[38;5;124;43m'\u001B[39;49m\u001B[38;5;124;43mtight\u001B[39;49m\u001B[38;5;124;43m'\u001B[39;49m\u001B[43m)\u001B[49m\n\u001B[0;32m     97\u001B[0m plt\u001B[38;5;241m.\u001B[39mshow()\n",
      "File \u001B[1;32mD:\\Anaconda3\\envs\\lss666\\lib\\site-packages\\matplotlib\\pyplot.py:1119\u001B[0m, in \u001B[0;36msavefig\u001B[1;34m(*args, **kwargs)\u001B[0m\n\u001B[0;32m   1116\u001B[0m fig \u001B[38;5;241m=\u001B[39m gcf()\n\u001B[0;32m   1117\u001B[0m \u001B[38;5;66;03m# savefig default implementation has no return, so mypy is unhappy\u001B[39;00m\n\u001B[0;32m   1118\u001B[0m \u001B[38;5;66;03m# presumably this is here because subclasses can return?\u001B[39;00m\n\u001B[1;32m-> 1119\u001B[0m res \u001B[38;5;241m=\u001B[39m fig\u001B[38;5;241m.\u001B[39msavefig(\u001B[38;5;241m*\u001B[39margs, \u001B[38;5;241m*\u001B[39m\u001B[38;5;241m*\u001B[39mkwargs)  \u001B[38;5;66;03m# type: ignore[func-returns-value]\u001B[39;00m\n\u001B[0;32m   1120\u001B[0m fig\u001B[38;5;241m.\u001B[39mcanvas\u001B[38;5;241m.\u001B[39mdraw_idle()  \u001B[38;5;66;03m# Need this if 'transparent=True', to reset colors.\u001B[39;00m\n\u001B[0;32m   1121\u001B[0m \u001B[38;5;28;01mreturn\u001B[39;00m res\n",
      "File \u001B[1;32mD:\\Anaconda3\\envs\\lss666\\lib\\site-packages\\matplotlib\\figure.py:3390\u001B[0m, in \u001B[0;36mFigure.savefig\u001B[1;34m(self, fname, transparent, **kwargs)\u001B[0m\n\u001B[0;32m   3388\u001B[0m     \u001B[38;5;28;01mfor\u001B[39;00m ax \u001B[38;5;129;01min\u001B[39;00m \u001B[38;5;28mself\u001B[39m\u001B[38;5;241m.\u001B[39maxes:\n\u001B[0;32m   3389\u001B[0m         _recursively_make_axes_transparent(stack, ax)\n\u001B[1;32m-> 3390\u001B[0m \u001B[38;5;28mself\u001B[39m\u001B[38;5;241m.\u001B[39mcanvas\u001B[38;5;241m.\u001B[39mprint_figure(fname, \u001B[38;5;241m*\u001B[39m\u001B[38;5;241m*\u001B[39mkwargs)\n",
      "File \u001B[1;32mD:\\Anaconda3\\envs\\lss666\\lib\\site-packages\\matplotlib\\backend_bases.py:2193\u001B[0m, in \u001B[0;36mFigureCanvasBase.print_figure\u001B[1;34m(self, filename, dpi, facecolor, edgecolor, orientation, format, bbox_inches, pad_inches, bbox_extra_artists, backend, **kwargs)\u001B[0m\n\u001B[0;32m   2189\u001B[0m \u001B[38;5;28;01mtry\u001B[39;00m:\n\u001B[0;32m   2190\u001B[0m     \u001B[38;5;66;03m# _get_renderer may change the figure dpi (as vector formats\u001B[39;00m\n\u001B[0;32m   2191\u001B[0m     \u001B[38;5;66;03m# force the figure dpi to 72), so we need to set it again here.\u001B[39;00m\n\u001B[0;32m   2192\u001B[0m     \u001B[38;5;28;01mwith\u001B[39;00m cbook\u001B[38;5;241m.\u001B[39m_setattr_cm(\u001B[38;5;28mself\u001B[39m\u001B[38;5;241m.\u001B[39mfigure, dpi\u001B[38;5;241m=\u001B[39mdpi):\n\u001B[1;32m-> 2193\u001B[0m         result \u001B[38;5;241m=\u001B[39m print_method(\n\u001B[0;32m   2194\u001B[0m             filename,\n\u001B[0;32m   2195\u001B[0m             facecolor\u001B[38;5;241m=\u001B[39mfacecolor,\n\u001B[0;32m   2196\u001B[0m             edgecolor\u001B[38;5;241m=\u001B[39medgecolor,\n\u001B[0;32m   2197\u001B[0m             orientation\u001B[38;5;241m=\u001B[39morientation,\n\u001B[0;32m   2198\u001B[0m             bbox_inches_restore\u001B[38;5;241m=\u001B[39m_bbox_inches_restore,\n\u001B[0;32m   2199\u001B[0m             \u001B[38;5;241m*\u001B[39m\u001B[38;5;241m*\u001B[39mkwargs)\n\u001B[0;32m   2200\u001B[0m \u001B[38;5;28;01mfinally\u001B[39;00m:\n\u001B[0;32m   2201\u001B[0m     \u001B[38;5;28;01mif\u001B[39;00m bbox_inches \u001B[38;5;129;01mand\u001B[39;00m restore_bbox:\n",
      "File \u001B[1;32mD:\\Anaconda3\\envs\\lss666\\lib\\site-packages\\matplotlib\\backend_bases.py:2043\u001B[0m, in \u001B[0;36mFigureCanvasBase._switch_canvas_and_return_print_method.<locals>.<lambda>\u001B[1;34m(*args, **kwargs)\u001B[0m\n\u001B[0;32m   2039\u001B[0m     optional_kws \u001B[38;5;241m=\u001B[39m {  \u001B[38;5;66;03m# Passed by print_figure for other renderers.\u001B[39;00m\n\u001B[0;32m   2040\u001B[0m         \u001B[38;5;124m\"\u001B[39m\u001B[38;5;124mdpi\u001B[39m\u001B[38;5;124m\"\u001B[39m, \u001B[38;5;124m\"\u001B[39m\u001B[38;5;124mfacecolor\u001B[39m\u001B[38;5;124m\"\u001B[39m, \u001B[38;5;124m\"\u001B[39m\u001B[38;5;124medgecolor\u001B[39m\u001B[38;5;124m\"\u001B[39m, \u001B[38;5;124m\"\u001B[39m\u001B[38;5;124morientation\u001B[39m\u001B[38;5;124m\"\u001B[39m,\n\u001B[0;32m   2041\u001B[0m         \u001B[38;5;124m\"\u001B[39m\u001B[38;5;124mbbox_inches_restore\u001B[39m\u001B[38;5;124m\"\u001B[39m}\n\u001B[0;32m   2042\u001B[0m     skip \u001B[38;5;241m=\u001B[39m optional_kws \u001B[38;5;241m-\u001B[39m {\u001B[38;5;241m*\u001B[39minspect\u001B[38;5;241m.\u001B[39msignature(meth)\u001B[38;5;241m.\u001B[39mparameters}\n\u001B[1;32m-> 2043\u001B[0m     print_method \u001B[38;5;241m=\u001B[39m functools\u001B[38;5;241m.\u001B[39mwraps(meth)(\u001B[38;5;28;01mlambda\u001B[39;00m \u001B[38;5;241m*\u001B[39margs, \u001B[38;5;241m*\u001B[39m\u001B[38;5;241m*\u001B[39mkwargs: meth(\n\u001B[0;32m   2044\u001B[0m         \u001B[38;5;241m*\u001B[39margs, \u001B[38;5;241m*\u001B[39m\u001B[38;5;241m*\u001B[39m{k: v \u001B[38;5;28;01mfor\u001B[39;00m k, v \u001B[38;5;129;01min\u001B[39;00m kwargs\u001B[38;5;241m.\u001B[39mitems() \u001B[38;5;28;01mif\u001B[39;00m k \u001B[38;5;129;01mnot\u001B[39;00m \u001B[38;5;129;01min\u001B[39;00m skip}))\n\u001B[0;32m   2045\u001B[0m \u001B[38;5;28;01melse\u001B[39;00m:  \u001B[38;5;66;03m# Let third-parties do as they see fit.\u001B[39;00m\n\u001B[0;32m   2046\u001B[0m     print_method \u001B[38;5;241m=\u001B[39m meth\n",
      "File \u001B[1;32mD:\\Anaconda3\\envs\\lss666\\lib\\site-packages\\matplotlib\\backends\\backend_pdf.py:2800\u001B[0m, in \u001B[0;36mFigureCanvasPdf.print_pdf\u001B[1;34m(self, filename, bbox_inches_restore, metadata)\u001B[0m\n\u001B[0;32m   2798\u001B[0m     file \u001B[38;5;241m=\u001B[39m filename\u001B[38;5;241m.\u001B[39m_ensure_file()\n\u001B[0;32m   2799\u001B[0m \u001B[38;5;28;01melse\u001B[39;00m:\n\u001B[1;32m-> 2800\u001B[0m     file \u001B[38;5;241m=\u001B[39m \u001B[43mPdfFile\u001B[49m\u001B[43m(\u001B[49m\u001B[43mfilename\u001B[49m\u001B[43m,\u001B[49m\u001B[43m \u001B[49m\u001B[43mmetadata\u001B[49m\u001B[38;5;241;43m=\u001B[39;49m\u001B[43mmetadata\u001B[49m\u001B[43m)\u001B[49m\n\u001B[0;32m   2801\u001B[0m \u001B[38;5;28;01mtry\u001B[39;00m:\n\u001B[0;32m   2802\u001B[0m     file\u001B[38;5;241m.\u001B[39mnewPage(width, height)\n",
      "File \u001B[1;32mD:\\Anaconda3\\envs\\lss666\\lib\\site-packages\\matplotlib\\backends\\backend_pdf.py:688\u001B[0m, in \u001B[0;36mPdfFile.__init__\u001B[1;34m(self, filename, metadata)\u001B[0m\n\u001B[0;32m    686\u001B[0m \u001B[38;5;28mself\u001B[39m\u001B[38;5;241m.\u001B[39moriginal_file_like \u001B[38;5;241m=\u001B[39m \u001B[38;5;28;01mNone\u001B[39;00m\n\u001B[0;32m    687\u001B[0m \u001B[38;5;28mself\u001B[39m\u001B[38;5;241m.\u001B[39mtell_base \u001B[38;5;241m=\u001B[39m \u001B[38;5;241m0\u001B[39m\n\u001B[1;32m--> 688\u001B[0m fh, opened \u001B[38;5;241m=\u001B[39m \u001B[43mcbook\u001B[49m\u001B[38;5;241;43m.\u001B[39;49m\u001B[43mto_filehandle\u001B[49m\u001B[43m(\u001B[49m\u001B[43mfilename\u001B[49m\u001B[43m,\u001B[49m\u001B[43m \u001B[49m\u001B[38;5;124;43m\"\u001B[39;49m\u001B[38;5;124;43mwb\u001B[39;49m\u001B[38;5;124;43m\"\u001B[39;49m\u001B[43m,\u001B[49m\u001B[43m \u001B[49m\u001B[43mreturn_opened\u001B[49m\u001B[38;5;241;43m=\u001B[39;49m\u001B[38;5;28;43;01mTrue\u001B[39;49;00m\u001B[43m)\u001B[49m\n\u001B[0;32m    689\u001B[0m \u001B[38;5;28;01mif\u001B[39;00m \u001B[38;5;129;01mnot\u001B[39;00m opened:\n\u001B[0;32m    690\u001B[0m     \u001B[38;5;28;01mtry\u001B[39;00m:\n",
      "File \u001B[1;32mD:\\Anaconda3\\envs\\lss666\\lib\\site-packages\\matplotlib\\cbook.py:483\u001B[0m, in \u001B[0;36mto_filehandle\u001B[1;34m(fname, flag, return_opened, encoding)\u001B[0m\n\u001B[0;32m    481\u001B[0m         fh \u001B[38;5;241m=\u001B[39m bz2\u001B[38;5;241m.\u001B[39mBZ2File(fname, flag)\n\u001B[0;32m    482\u001B[0m     \u001B[38;5;28;01melse\u001B[39;00m:\n\u001B[1;32m--> 483\u001B[0m         fh \u001B[38;5;241m=\u001B[39m \u001B[38;5;28;43mopen\u001B[39;49m\u001B[43m(\u001B[49m\u001B[43mfname\u001B[49m\u001B[43m,\u001B[49m\u001B[43m \u001B[49m\u001B[43mflag\u001B[49m\u001B[43m,\u001B[49m\u001B[43m \u001B[49m\u001B[43mencoding\u001B[49m\u001B[38;5;241;43m=\u001B[39;49m\u001B[43mencoding\u001B[49m\u001B[43m)\u001B[49m\n\u001B[0;32m    484\u001B[0m     opened \u001B[38;5;241m=\u001B[39m \u001B[38;5;28;01mTrue\u001B[39;00m\n\u001B[0;32m    485\u001B[0m \u001B[38;5;28;01melif\u001B[39;00m \u001B[38;5;28mhasattr\u001B[39m(fname, \u001B[38;5;124m'\u001B[39m\u001B[38;5;124mseek\u001B[39m\u001B[38;5;124m'\u001B[39m):\n",
      "\u001B[1;31mFileNotFoundError\u001B[0m: [Errno 2] No such file or directory: './figures/fidtrain_epoch.pdf'"
     ]
    },
    {
     "data": {
      "text/plain": "<Figure size 600x500 with 1 Axes>",
      "image/png": "[encoded data removed]"
     },
     "metadata": {},
     "output_type": "display_data"
    }
   ],
   "source": [
    "# IS\n",
    "\n",
    "metric_type = 'fidtrain'                # {'is', 'fidtrain', 'fidtest'}\n",
    "exp_type = 'epoch'                 # {'beta', 'client', 'epoch'}\n",
    "\n",
    "plot_name = metric_type + '_' + exp_type\n",
    "\n",
    "legend = ['CIFAR-10', 'Fashion-MNIST', 'SVHN']\n",
    "\n",
    "plt.figure(figsize= (6, 5))\n",
    "\n",
    "# if plot_name == 'is_beta':\n",
    "#     y_cifar10 = [3.53, 3.69, 3.65]\n",
    "#     y_fashionmnist = [4.04, 4.11, 3.94]\n",
    "#     y_svhn = [3.12, 3.07, 3.14]\n",
    "# elif plot_name == 'fidtrain_beta':\n",
    "#     y_cifar10 = [23.14, 21.42, 25.40]\n",
    "#     y_fashionmnist = [18.02, 17.03, 20.01]\n",
    "#     y_svhn = [12.28, 15.64, 20.15]\n",
    "# elif plot_name == 'fidtest_beta':\n",
    "#     y_cifar10 = [24.42, 22.67, 26.74]\n",
    "#     y_fashionmnist = [18.96, 17.91, 20.93]\n",
    "#     y_svhn = [16.38, 20.39, 22.93]\n",
    "\n",
    "if plot_name == 'is_beta':\n",
    "    y_cifar10 = [3.65, 3.69, 3.53]\n",
    "    y_fashionmnist = [3.94, 4.11, 4.04]\n",
    "    y_svhn =  [3.14, 3.07, 3.12]\n",
    "elif plot_name == 'fidtrain_beta':\n",
    "    y_cifar10 = [ 25.40, 21.42, 23.14]\n",
    "    y_fashionmnist = [20.01, 17.03, 18.02]\n",
    "    y_svhn = [20.15, 15.64, 12.28]\n",
    "elif plot_name == 'fidtest_beta':\n",
    "    y_cifar10 = [26.74, 22.67, 24.42]\n",
    "    y_fashionmnist = [20.93, 17.91, 18.96]\n",
    "    y_svhn = [22.93, 20.39, 16.38]\n",
    "\n",
    "if exp_type == 'beta':\n",
    "    plt.xticks([0, 1, 2], ['0.1', '0.5', '5'], fontsize=14)\n",
    "    plt.xlabel('$β$', fontsize=18) \n",
    "#     plt.xticks([0, 1, 2], ['5', '0.5', '0.1'], fontsize=14)\n",
    "#     plt.xlabel('$β$', fontsize=18) \n",
    "    \n",
    "if plot_name == 'is_client':\n",
    "    y_cifar10 = [3.69, 3.02, 2.81]\n",
    "    y_fashionmnist = [4.11, 3.98, 4.21]\n",
    "    y_svhn = [3.07, 2.95, 2.96]\n",
    "elif plot_name == 'fidtrain_client':\n",
    "    y_cifar10 = [21.42, 40.09, 48.69]\n",
    "    y_fashionmnist = [17.03, 19.56, 35.61]\n",
    "    y_svhn = [15.64, 20.45, 23.76]\n",
    "elif plot_name == 'fidtest_client':\n",
    "    y_cifar10 = [22.67, 41.57, 50.23]\n",
    "    y_fashionmnist = [17.91, 20.50, 36.46]\n",
    "    y_svhn = [20.39, 23.48, 26.46]\n",
    "    \n",
    "if exp_type == 'client':\n",
    "    plt.xticks([0, 1, 2], ['10', '30', '50'], fontsize=14)\n",
    "    plt.xlabel('$N$', fontsize=18) \n",
    "    \n",
    "\n",
    "    \n",
    "if plot_name == 'is_epoch':\n",
    "    y_cifar10 = [2.49, 3.69, 3.88 ]\n",
    "    y_fashionmnist = [4.01, 4.11, 3.95]\n",
    "    y_svhn = [2.33, 3.07, 3.10]\n",
    "elif plot_name == 'fidtrain_epoch':\n",
    "    y_cifar10 = [79.79, 21.42, 18.22]\n",
    "    y_fashionmnist = [36.36, 17.03, 12.78]\n",
    "    y_svhn = [48.16, 15.64, 11.73]\n",
    "elif plot_name == 'fidtest_epoch':\n",
    "    y_cifar10 = [81.60, 22.67, 19.51]\n",
    "    y_fashionmnist = [37.31, 17.91, 13.75]\n",
    "    y_svhn = [52.85, 20.39, 17.31]\n",
    "    \n",
    "if exp_type == 'epoch':\n",
    "    plt.xticks([0, 1, 2], ['1', '5', '10'], fontsize=14)\n",
    "    plt.xlabel('$E$', fontsize=18) \n",
    "\n",
    "\n",
    "\n",
    "if metric_type == 'is':\n",
    "    plt.ylabel(r'IS$\\uparrow$', fontsize=18)\n",
    "elif metric_type == 'fidtrain':\n",
    "    plt.ylabel(r'FID$\\downarrow$ (train)', fontsize=18)\n",
    "elif metric_type == 'fidtest':\n",
    "    plt.ylabel(r'FID$\\downarrow$ (test)', fontsize=18)\n",
    "\n",
    "    \n",
    "for y_value, name in zip([y_cifar10, y_fashionmnist, y_svhn], legend):\n",
    "    plt.plot(y_value, label=name, marker='o', linestyle='-')\n",
    "\n",
    "plt.yticks( fontsize=14)\n",
    "plt.grid(True, linestyle='-.')\n",
    "plt.legend(loc='upper center', bbox_to_anchor=(0.5, 1.10), ncol=3, fancybox=True, shadow=True, fontsize=12)\n",
    "plt.savefig(os.path.join('./figures/', '{}.pdf'.format(plot_name)), dpi=300, bbox_inches='tight')\n",
    "plt.show()"
   ]
  },
  {
   "cell_type": "code",
   "execution_count": 71,
   "metadata": {
    "ExecuteTime": {
     "end_time": "2024-10-08T08:22:07.751249Z",
     "start_time": "2024-10-08T08:22:07.619250Z"
    }
   },
   "outputs": [
    {
     "data": {
      "text/plain": "<Figure size 600x500 with 1 Axes>",
      "image/png": "[encoded data removed]"
     },
     "metadata": {},
     "output_type": "display_data"
    }
   ],
   "source": [
    "# IS\n",
    "legend = ['CIFAR-10', 'Fashion-MNIST', 'SVHN']\n",
    "\n",
    "\n",
    "plt.figure(figsize= (6, 5))\n",
    "\n",
    "# Beta\n",
    "y_cifar10 = [3.53, 3.69, 3.65]\n",
    "y_fashionmnist = [4.04, 4.11, 3.94]\n",
    "y_svhn = [3.12, 3.07, 3.14]\n",
    "plt.xticks([0, 1, 2], ['5', '0.5', '0.1'], fontsize=14)\n",
    "\n",
    "for y_value, name in zip([y_cifar10, y_fashionmnist, y_svhn], legend):\n",
    "    plt.plot(y_value, label=name, marker='o', linestyle='-')\n",
    "plt.xlabel('$β$', fontsize=18)    \n",
    "plt.ylabel(r'IS$\\uparrow$', fontsize=18)\n",
    "\n",
    "plt.yticks( fontsize=14)\n",
    "plt.grid(True, linestyle='-.')\n",
    "plt.legend(loc='upper center', bbox_to_anchor=(0.5, 1.10), ncol=3, fancybox=True, shadow=True, fontsize=12)\n",
    "# plt.savefig(os.path.join('./figures/', 'cifar_10_c_10_b_0.5_le_abalation.pdf'), dpi=300, bbox_inches='tight')\n",
    "plt.show()"
   ]
  },
  {
   "cell_type": "code",
   "execution_count": 72,
   "metadata": {
    "tags": [],
    "ExecuteTime": {
     "end_time": "2024-10-08T08:22:09.346934Z",
     "start_time": "2024-10-08T08:22:09.331934Z"
    }
   },
   "outputs": [],
   "source": [
    "import matplotlib.pyplot as plt\n",
    "from matplotlib.patches import Rectangle\n",
    "from PIL import Image\n",
    "\n",
    "\n",
    "def append_color_cluster(img_path, rect_ratio_list, rect_color_list, save_path, img_width=342):\n",
    "    \n",
    "    img = Image.open(img_path)\n",
    "    fig, ax = plt.subplots()\n",
    "    ax.imshow(img)\n",
    "    \n",
    "    rect_x = 0\n",
    "    for i in range(len(rect_color_list)):\n",
    "        rect_ratio = rect_ratio_list[i]\n",
    "        rect_color = rect_color_list[i]\n",
    "        rect_length = (rect_ratio / 100) * img_width\n",
    "        rect = Rectangle((rect_x, -20), rect_length, 15, linewidth=0, edgecolor='r', clip_on=False, facecolor=rect_color)\n",
    "        rect_x += rect_length \n",
    "        ax.add_patch(rect)\n",
    "        \n",
    "    plt.axis('off')\n",
    "    plt.savefig(save_path, dpi=300, bbox_inches='tight')\n",
    "    plt.show()\n",
    "    "
   ]
  },
  {
   "cell_type": "markdown",
   "metadata": {},
   "source": [
    "### Local Model Samples"
   ]
  },
  {
   "cell_type": "code",
   "execution_count": 73,
   "metadata": {
    "tags": [],
    "ExecuteTime": {
     "end_time": "2024-10-08T08:22:11.631592Z",
     "start_time": "2024-10-08T08:22:11.515596Z"
    }
   },
   "outputs": [
    {
     "ename": "FileNotFoundError",
     "evalue": "[Errno 2] No such file or directory: './figures/fashion_c3.png'",
     "output_type": "error",
     "traceback": [
      "\u001B[1;31m---------------------------------------------------------------------------\u001B[0m",
      "\u001B[1;31mFileNotFoundError\u001B[0m                         Traceback (most recent call last)",
      "Cell \u001B[1;32mIn[73], line 38\u001B[0m\n\u001B[0;32m     35\u001B[0m save_path \u001B[38;5;241m=\u001B[39m \u001B[38;5;124m'\u001B[39m\u001B[38;5;124m./figures/fashion_c3_color.png\u001B[39m\u001B[38;5;124m'\u001B[39m\n\u001B[0;32m     36\u001B[0m img_width \u001B[38;5;241m=\u001B[39m \u001B[38;5;241m172\u001B[39m\n\u001B[1;32m---> 38\u001B[0m \u001B[43mappend_color_cluster\u001B[49m\u001B[43m(\u001B[49m\u001B[43mimg_path\u001B[49m\u001B[43m,\u001B[49m\u001B[43m \u001B[49m\u001B[43mrect_ratio_list\u001B[49m\u001B[43m,\u001B[49m\u001B[43m \u001B[49m\u001B[43mrect_color_list\u001B[49m\u001B[43m,\u001B[49m\u001B[43m \u001B[49m\u001B[43msave_path\u001B[49m\u001B[43m,\u001B[49m\u001B[43m \u001B[49m\u001B[43mimg_width\u001B[49m\u001B[38;5;241;43m=\u001B[39;49m\u001B[43mimg_width\u001B[49m\u001B[43m)\u001B[49m\n",
      "Cell \u001B[1;32mIn[72], line 8\u001B[0m, in \u001B[0;36mappend_color_cluster\u001B[1;34m(img_path, rect_ratio_list, rect_color_list, save_path, img_width)\u001B[0m\n\u001B[0;32m      6\u001B[0m \u001B[38;5;28;01mdef\u001B[39;00m \u001B[38;5;21mappend_color_cluster\u001B[39m(img_path, rect_ratio_list, rect_color_list, save_path, img_width\u001B[38;5;241m=\u001B[39m\u001B[38;5;241m342\u001B[39m):\n\u001B[1;32m----> 8\u001B[0m     img \u001B[38;5;241m=\u001B[39m \u001B[43mImage\u001B[49m\u001B[38;5;241;43m.\u001B[39;49m\u001B[43mopen\u001B[49m\u001B[43m(\u001B[49m\u001B[43mimg_path\u001B[49m\u001B[43m)\u001B[49m\n\u001B[0;32m      9\u001B[0m     fig, ax \u001B[38;5;241m=\u001B[39m plt\u001B[38;5;241m.\u001B[39msubplots()\n\u001B[0;32m     10\u001B[0m     ax\u001B[38;5;241m.\u001B[39mimshow(img)\n",
      "File \u001B[1;32mD:\\Anaconda3\\envs\\lss666\\lib\\site-packages\\PIL\\Image.py:3227\u001B[0m, in \u001B[0;36mopen\u001B[1;34m(fp, mode, formats)\u001B[0m\n\u001B[0;32m   3224\u001B[0m     filename \u001B[38;5;241m=\u001B[39m fp\n\u001B[0;32m   3226\u001B[0m \u001B[38;5;28;01mif\u001B[39;00m filename:\n\u001B[1;32m-> 3227\u001B[0m     fp \u001B[38;5;241m=\u001B[39m \u001B[43mbuiltins\u001B[49m\u001B[38;5;241;43m.\u001B[39;49m\u001B[43mopen\u001B[49m\u001B[43m(\u001B[49m\u001B[43mfilename\u001B[49m\u001B[43m,\u001B[49m\u001B[43m \u001B[49m\u001B[38;5;124;43m\"\u001B[39;49m\u001B[38;5;124;43mrb\u001B[39;49m\u001B[38;5;124;43m\"\u001B[39;49m\u001B[43m)\u001B[49m\n\u001B[0;32m   3228\u001B[0m     exclusive_fp \u001B[38;5;241m=\u001B[39m \u001B[38;5;28;01mTrue\u001B[39;00m\n\u001B[0;32m   3230\u001B[0m \u001B[38;5;28;01mtry\u001B[39;00m:\n",
      "\u001B[1;31mFileNotFoundError\u001B[0m: [Errno 2] No such file or directory: './figures/fashion_c3.png'"
     ]
    }
   ],
   "source": [
    "# Image stats are generated here.\n",
    "# http://mkweb.bcgsc.ca/color-summarizer/?\n",
    "\n",
    "\n",
    "# img_path = './figures/cifar_c1.png'\n",
    "# rect_ratio_list = [34.00, 27.88, 23.80, 14.32]\n",
    "# rect_color_list = ['#777966', '#454540', '#9CA5A7', '#60778F']\n",
    "# save_path = './figures/cifar_c1_color.png'\n",
    "\n",
    "# img_path = './figures/cifar_c2.png'\n",
    "# rect_ratio_list = [31.36, 27.24, 20.84, 20.56]\n",
    "# rect_color_list = ['#7D7979', '#4F453E', '#947453', '#BFBDBD']\n",
    "# save_path = './figures/cifar_c2_color.png'\n",
    "\n",
    "# img_path = './figures/cifar_c5.png'\n",
    "# rect_ratio_list = [32.96, 26.56, 20.36, 20.12]\n",
    "# rect_color_list = ['#C8C3C2', '#8D8F97', '#5C5A58', '#958875']\n",
    "# save_path = './figures/cifar_c5_color.png'\n",
    "\n",
    "# img_path = './figures/fashion_c6.png'\n",
    "# rect_ratio_list = [35.07, 26.80, 19.60, 18.53]\n",
    "# rect_color_list = ['#D3D3D4', '#A3A3A5', '#676769', '#323133']\n",
    "# save_path = './figures/fashion_c6_color.png'\n",
    "\n",
    "\n",
    "# img_path = './figures/fashion_c6.png'\n",
    "# rect_ratio_list = [31.60, 27.33, 22.67, 18.40]\n",
    "# rect_color_list = ['#ADADAE', '#E2E2E2', '#2E2D2F', '#6C6C6E']\n",
    "# save_path = './figures/fashion_c6_color.png'\n",
    "# img_width = 172\n",
    "\n",
    "img_path = './figures/fashion_c3.png'\n",
    "rect_ratio_list = [30.40, 27.47, 23.27, 18.87]\n",
    "rect_color_list = ['#B9BBB9', '#E2E3E2', '#949594', '#6E6F6D']\n",
    "save_path = './figures/fashion_c3_color.png'\n",
    "img_width = 172\n",
    "\n",
    "append_color_cluster(img_path, rect_ratio_list, rect_color_list, save_path, img_width=img_width)"
   ]
  },
  {
   "cell_type": "code",
   "execution_count": 74,
   "metadata": {
    "tags": [],
    "ExecuteTime": {
     "end_time": "2024-10-08T08:22:12.599592Z",
     "start_time": "2024-10-08T08:22:12.585593Z"
    }
   },
   "outputs": [],
   "source": [
    "# rect_ratio_list = [34.00, 27.88, 23.80, 14.32]\n",
    "# rect_color_list = ['#777966', '#454540', '#9CA5A7', '#60778F']\n",
    "\n",
    "# img = Image.open('./figures/cifar_c1.png')\n",
    "\n",
    "# img_width = 342\n",
    "\n",
    "# fig, ax = plt.subplots()\n",
    "# ax.imshow(img)\n",
    "\n",
    "# rect_x = 0\n",
    "# for i in range(len(rect_color_list)):\n",
    "#     rect_ratio = rect_ratio_list[i]\n",
    "#     rect_color = rect_color_list[i]\n",
    "#     rect_length = (rect_ratio / 100) * img_width\n",
    "#     rect = Rectangle((rect_x, -30), rect_length, 20, linewidth=0, edgecolor='r', clip_on=False, facecolor=rect_color)\n",
    "#     rect_x += rect_length \n",
    "#     ax.add_patch(rect)\n",
    "\n",
    "# plt.axis('off')\n",
    "# plt.show()"
   ]
  },
  {
   "cell_type": "code",
   "execution_count": 75,
   "metadata": {
    "tags": [],
    "ExecuteTime": {
     "end_time": "2024-10-08T08:22:13.351595Z",
     "start_time": "2024-10-08T08:22:13.332596Z"
    }
   },
   "outputs": [],
   "source": [
    "# import matplotlib.pyplot as plt\n",
    "# # import matplotlib.pyplot as pyplot\n",
    "# from matplotlib.patches import Rectangle\n",
    "# from PIL import Image\n",
    "\n",
    "# im = Image.open('./figures/cifar_c1.png')\n",
    "\n",
    "# # Create figure and axes\n",
    "# fig, ax = plt.subplots()\n",
    "\n",
    "# # Display the image\n",
    "# ax.imshow(im)\n",
    "\n",
    "# # Create a Rectangle patch\n",
    "# rect_1 = Rectangle((0, -30), (34.00 / 100) * 320, 20, linewidth=0, edgecolor='r', clip_on=False, facecolor='#777966')\n",
    "# rect_2 = Rectangle(((34.00 / 100) * 320, -30), (27.88 / 100) * 320, 20, linewidth=0, edgecolor='r', clip_on=False, facecolor='#454540')\n",
    "# rect_3 = Rectangle(((27.88 / 100) * 320, -30), (23.80 / 100) * 320, 20, linewidth=0, edgecolor='r', clip_on=False, facecolor='#9CA5A7')\n",
    "# rect_4 = Rectangle(((23.80 / 100) * 320, -30), (14.32 / 100) * 320, 20, linewidth=0, edgecolor='r', clip_on=False, facecolor='#60778F')\n",
    "\n",
    "# # ax.add_patch(plt.Rectangle((0,-60),60, 10,facecolor='silver', clip_on=False, linewidth = 0))\n",
    "\n",
    "\n",
    "# # Add the patch to the Axes\n",
    "# ax.add_patch(rect_1)\n",
    "# ax.add_patch(rect_2)\n",
    "# ax.add_patch(rect_3)\n",
    "# ax.add_patch(rect_4)\n",
    "\n",
    "# plt.show()"
   ]
  },
  {
   "cell_type": "code",
   "execution_count": 76,
   "metadata": {
    "tags": [],
    "ExecuteTime": {
     "end_time": "2024-10-08T08:22:14.041991Z",
     "start_time": "2024-10-08T08:22:14.020994Z"
    }
   },
   "outputs": [],
   "source": [
    "# import matplotlib.pyplot as plt\n",
    "# from matplotlib.patches import Rectangle\n",
    "# from PIL import Image\n",
    "\n",
    "\n",
    "# rect_ratio_list = [34.00, 27.88, 23.80, 14.32]\n",
    "# rect_color_list = ['#777966', '#454540', '#9CA5A7', '#60778F']\n",
    "\n",
    "# img = Image.open('./figures/cifar_c1.png')\n",
    "# img_width = 342\n",
    "\n",
    "# fig, ax = plt.subplots()\n",
    "# ax.imshow(img)\n",
    "\n",
    "# rect_x = 0\n",
    "# for i in range(len(rect_color_list)):\n",
    "#     rect_ratio = rect_ratio_list[i]\n",
    "#     rect_color = rect_color_list[i]\n",
    "#     rect_length = (rect_ratio / 100) * img_width\n",
    "#     rect = Rectangle((rect_x, -30), rect_length, 20, linewidth=0, edgecolor='r', clip_on=False, facecolor=rect_color)\n",
    "#     rect_x += rect_length \n",
    "#     ax.add_patch(rect)\n",
    "\n",
    "# plt.axis('off')\n",
    "# plt.show()"
   ]
  },
  {
   "cell_type": "code",
   "execution_count": 76,
   "metadata": {
    "ExecuteTime": {
     "end_time": "2024-10-08T08:22:14.828995Z",
     "start_time": "2024-10-08T08:22:14.810993Z"
    }
   },
   "outputs": [],
   "source": []
  },
  {
   "cell_type": "code",
   "outputs": [],
   "source": [],
   "metadata": {
    "collapsed": false
   }
  }
 ],
 "metadata": {
  "kernelspec": {
   "display_name": "Python 3 (ipykernel)",
   "language": "python",
   "name": "python3"
  },
  "language_info": {
   "codemirror_mode": {
    "name": "ipython",
    "version": 3
   },
   "file_extension": ".py",
   "mimetype": "text/x-python",
   "name": "python",
   "nbconvert_exporter": "python",
   "pygments_lexer": "ipython3",
   "version": "3.11.4"
  }
 },
 "nbformat": 4,
 "nbformat_minor": 4
}
